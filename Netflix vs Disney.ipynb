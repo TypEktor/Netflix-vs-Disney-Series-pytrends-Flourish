{
 "cells": [
  {
   "cell_type": "code",
   "execution_count": 1,
   "id": "4d77ab85",
   "metadata": {},
   "outputs": [
    {
     "data": {
      "text/html": [
       "<style>.container { width:100% !important;} </style>"
      ],
      "text/plain": [
       "<IPython.core.display.HTML object>"
      ]
     },
     "metadata": {},
     "output_type": "display_data"
    }
   ],
   "source": [
    "from IPython.core.display import display, HTML\n",
    "display(HTML(\"<style>.container { width:100% !important;} </style>\"))"
   ]
  },
  {
   "cell_type": "code",
   "execution_count": 5,
   "id": "d66837c1",
   "metadata": {},
   "outputs": [],
   "source": [
    "# import libraries\n",
    "import pandas as pd\n",
    "#Import TrendReq to connect to Google\n",
    "from pytrends.request import TrendReq\n",
    "import matplotlib.pyplot as plt\n",
    "import plotly.express as px\n",
    "from plotly.offline import plot\n",
    "import dill as pickle\n",
    "import Net_Dis_Functions as nd"
   ]
  },
  {
   "cell_type": "markdown",
   "id": "21961223",
   "metadata": {},
   "source": [
    "The Sandman -> August\n",
    "\n",
    "Stranger    -> May\n",
    "\n",
    "Umbrella    -> June\n",
    "\n",
    "Peaky       -> Feb\n",
    "\n",
    "Bridgerton  -> March"
   ]
  },
  {
   "cell_type": "code",
   "execution_count": 3,
   "id": "2d1e7463",
   "metadata": {},
   "outputs": [],
   "source": [
    "SavePath = 'C:/Users/gioek/Programming/IMDB - Netflix vs Disney+/'\n",
    "\n",
    "Netflix_S = ['The Sandman','Stranger Things','The Umbrella Academy','Peaky Blinders', 'Bridgerton']\n",
    "\n",
    "# Disney vs Netflix (Disney's best)\n",
    "Disney_S = ['Moon Knight','Stranger Things','The Umbrella Academy','Peaky Blinders', 'Bridgerton']"
   ]
  },
  {
   "cell_type": "code",
   "execution_count": 6,
   "id": "5bd39644",
   "metadata": {},
   "outputs": [],
   "source": [
    "pytrends = TrendReq(hl='en-US')\n",
    "\n",
    "Netflix_df_World, pytrends_Netflix_World = nd.payload(Netflix_S, 'Default' ,'2022-03-20 2022-08-16', pytrends)\n",
    "Netflix_df_World_geo = pytrends_Netflix_World.interest_by_region(resolution='COUNTRY',inc_geo_code=False)\n",
    "\n",
    "pytrends = TrendReq(hl='en-US')\n",
    "Netflix_df_ENG,   pytrends_Netflix_ENG = nd.payload(Netflix_S, 'GB-ENG' ,'2022-03-20 2022-08-16', pytrends)\n",
    "Netflix_df_ENG_geo   = pytrends_Netflix_ENG.interest_by_region(resolution='CITY',inc_geo_code=False)\n",
    "\n",
    "pytrends = TrendReq(hl='en-US')\n",
    "Netflix_df_GR,    pytrends_Netflix_GR = nd.payload(Netflix_S, 'GR' ,'2022-03-20 2022-08-16', pytrends)\n",
    "Netflix_df_GR_geo    = pytrends_Netflix_GR.interest_by_region(resolution='CITY',inc_geo_code=False)\n",
    "\n",
    "pytrends = TrendReq(hl='en-US')\n",
    "Disney_df_World,  pytrends_Disney_World = nd.payload(Disney_S, 'Default' ,'2022-03-20 2022-08-16', pytrends)\n",
    "Disney_df_World_geo  = pytrends_Disney_World.interest_by_region(resolution='COUNTRY',inc_geo_code=False)\n",
    "\n",
    "pytrends = TrendReq(hl='en-US')\n",
    "Disney_df_ENG,    pytrends_Disney_ENG = nd.payload(Disney_S, 'GB-ENG' ,'2022-03-20 2022-08-16', pytrends)\n",
    "Disney_df_ENG_geo    = pytrends_Disney_ENG.interest_by_region(resolution='CITY',inc_geo_code=False)\n",
    "\n",
    "pytrends = TrendReq(hl='en-US')\n",
    "Disney_df_GR,     pytrends_Disney_GR = nd.payload(Disney_S, 'GR' ,'2022-03-20 2022-08-16', pytrends)\n",
    "Disney_df_GR_geo     = pytrends_Disney_GR.interest_by_region(resolution='CITY',inc_geo_code=False)"
   ]
  },
  {
   "cell_type": "markdown",
   "id": "f9c9b853",
   "metadata": {},
   "source": [
    "# Plots"
   ]
  },
  {
   "cell_type": "code",
   "execution_count": null,
   "id": "099f7060",
   "metadata": {},
   "outputs": [],
   "source": [
    "title='2022 Comparison of Netflix Series vs Moon Knight, based on Word\\'s Google Search'\n",
    "xaxis_title='Month'\n",
    "yaxis_title='Interest over time'\n",
    "plot_file = 'C:/Users/gioek/Programming/IMDB - Netflix vs Disney+/Output/'\n",
    "\n",
    "Disney_S_Zoom = ['Moon Knight','The Umbrella Academy','Peaky Blinders', 'Bridgerton']"
   ]
  },
  {
   "cell_type": "markdown",
   "id": "fab5680d",
   "metadata": {},
   "source": [
    "### 2022 Comparison of Netflix Series vs Moon Knight, based on Word's Google Search"
   ]
  },
  {
   "cell_type": "code",
   "execution_count": null,
   "id": "7ffa3720",
   "metadata": {},
   "outputs": [],
   "source": [
    "nd.LinePlot(Disney_df_World, Disney_S, title, xaxis_title, yaxis_title, plot_file+'Net_Moon_World')"
   ]
  },
  {
   "cell_type": "markdown",
   "id": "b52d1a90",
   "metadata": {},
   "source": [
    "### 2022 Comparison of Netflix Series vs Moon Knight, based on Word's Google Search - Zoom In (Exclude Stranger Things)"
   ]
  },
  {
   "cell_type": "code",
   "execution_count": null,
   "id": "72cf105f",
   "metadata": {},
   "outputs": [],
   "source": [
    "nd.LinePlot(Disney_df_World, Disney_S_Zoom, title+ ' (Zoom In)', xaxis_title, yaxis_title, plot_file+'Net_Moon_World_Zoom')"
   ]
  },
  {
   "cell_type": "markdown",
   "id": "1f5dc0e8",
   "metadata": {},
   "source": [
    "### 2022 Comparison of Netflix Series vs Moon Knight, based on England's Google Search"
   ]
  },
  {
   "cell_type": "code",
   "execution_count": null,
   "id": "0f54889d",
   "metadata": {},
   "outputs": [],
   "source": [
    "nd.LinePlot(Disney_df_ENG, Disney_S, title, xaxis_title, yaxis_title, plot_file+'Net_Moon_Eng')"
   ]
  },
  {
   "cell_type": "markdown",
   "id": "760db620",
   "metadata": {},
   "source": [
    "### 2022 Comparison of Netflix Series vs Moon Knight, based on England's Google Search - Zoom In (Exclude Stranger Things)"
   ]
  },
  {
   "cell_type": "code",
   "execution_count": null,
   "id": "21cf4d6b",
   "metadata": {},
   "outputs": [],
   "source": [
    "nd.LinePlot(Disney_df_ENG, Disney_S_Zoom, title+ ' (Zoom In)', xaxis_title, yaxis_title, plot_file+'Net_Moon_Eng_Zoom')"
   ]
  },
  {
   "cell_type": "markdown",
   "id": "70f7fa67",
   "metadata": {},
   "source": [
    "### 2022 Comparison of Netflix Series vs Moon Knight, based on Greece's Google Search"
   ]
  },
  {
   "cell_type": "code",
   "execution_count": null,
   "id": "426ce51d",
   "metadata": {},
   "outputs": [],
   "source": [
    "nd.LinePlot(Disney_df_GR, Disney_S, title, xaxis_title, yaxis_title, plot_file+'Net_Moon_Gr')"
   ]
  },
  {
   "cell_type": "markdown",
   "id": "40d7b0db",
   "metadata": {},
   "source": [
    "### 2022 Comparison of Netflix Series vs Moon Knight, based on Greece's Google Search - Zoom In (Exclude Stranger Things)"
   ]
  },
  {
   "cell_type": "code",
   "execution_count": null,
   "id": "d05cba9f",
   "metadata": {},
   "outputs": [],
   "source": [
    "nd.LinePlot(Disney_df_GR, Disney_S_Zoom, title+ ' (Zoom In)', xaxis_title, yaxis_title, plot_file+'Net_Moon_Gr_Zoom')"
   ]
  },
  {
   "cell_type": "markdown",
   "id": "16ead2b3",
   "metadata": {},
   "source": [
    "### 2022 Comparison of Netflix Series, based on World's Google Search"
   ]
  },
  {
   "cell_type": "code",
   "execution_count": null,
   "id": "c1c08ff5",
   "metadata": {},
   "outputs": [],
   "source": [
    "title='2022 Comparison of Netflix Series, based on Word\\'s Google Search'\n",
    "nd.LinePlot(Netflix_df_World, Netflix_S, title, xaxis_title, yaxis_title, plot_file+'Net_World')"
   ]
  },
  {
   "cell_type": "markdown",
   "id": "c3ea8f48",
   "metadata": {},
   "source": [
    "# Maps"
   ]
  },
  {
   "cell_type": "code",
   "execution_count": null,
   "id": "1c5ac605",
   "metadata": {},
   "outputs": [],
   "source": [
    "import country_converter as coco"
   ]
  },
  {
   "cell_type": "code",
   "execution_count": null,
   "id": "61d3a143",
   "metadata": {},
   "outputs": [],
   "source": [
    "Netflix_df_World_geo = Netflix_df_World_geo.reset_index()\n",
    "Netflix_df_World_geo['ISO3'] = coco.convert(names=Netflix_df_World_geo['geoName'], to='ISO3')"
   ]
  },
  {
   "cell_type": "code",
   "execution_count": null,
   "id": "067bde53",
   "metadata": {},
   "outputs": [],
   "source": [
    "fig = px.choropleth(Netflix_df_World_geo, locations=\"ISO3\",\n",
    "                    color=\"Stranger Things\",\n",
    "                    hover_name=\"geoName\",\n",
    "                    title = \"Covid Cases plotted using Plotly\")\n",
    " \n",
    "fig.show()"
   ]
  },
  {
   "cell_type": "code",
   "execution_count": null,
   "id": "c82e1111",
   "metadata": {},
   "outputs": [],
   "source": [
    "fig = px.choropleth(Netflix_df_World_geo, locations=\"ISO3\",\n",
    "                    color=\"Peaky Blinders\",\n",
    "                    hover_name=\"geoName\",\n",
    "                    title = \"Covid Cases plotted using Plotly\")\n",
    " \n",
    "fig.show()"
   ]
  },
  {
   "cell_type": "code",
   "execution_count": null,
   "id": "553effca",
   "metadata": {},
   "outputs": [],
   "source": [
    "fig = px.choropleth(Netflix_df_World_geo, locations=\"ISO3\",\n",
    "                    color=\"Bridgerton\",\n",
    "                    hover_name=\"geoName\",\n",
    "                    title = \"Covid Cases plotted using Plotly\")\n",
    " \n",
    "fig.show()"
   ]
  },
  {
   "cell_type": "code",
   "execution_count": null,
   "id": "0b812b48",
   "metadata": {},
   "outputs": [],
   "source": [
    "# For Flourish\n",
    "Disney_df_GR = Disney_df_GR.T\n",
    "Disney_df_ENG = Disney_df_ENG.T\n",
    "Disney_df_World = Disney_df_World.T\n",
    "Netflix_df_GR = Netflix_df_GR.T\n",
    "Netflix_df_ENG = Netflix_df_ENG.T\n",
    "Netflix_df_World = Netflix_df_World.T\n",
    "Disney_df_GR.to_csv(SavePath+'Disney_df_GR.csv')\n",
    "Disney_df_ENG.to_csv(SavePath+'Disney_df_ENG.csv')\n",
    "Disney_df_World.to_csv(SavePath+'Disney_df_World.csv')\n",
    "Netflix_df_GR.to_csv(SavePath+'Netflix_df_GR.csv')\n",
    "Netflix_df_ENG.to_csv(SavePath+'Netflix_df_ENG.csv')\n",
    "Netflix_df_World.to_csv(SavePath+'Netflix_df_World.csv')"
   ]
  },
  {
   "cell_type": "code",
   "execution_count": null,
   "id": "b84c1a5a",
   "metadata": {},
   "outputs": [],
   "source": []
  }
 ],
 "metadata": {
  "kernelspec": {
   "display_name": "Python 3",
   "language": "python",
   "name": "python3"
  },
  "language_info": {
   "codemirror_mode": {
    "name": "ipython",
    "version": 3
   },
   "file_extension": ".py",
   "mimetype": "text/x-python",
   "name": "python",
   "nbconvert_exporter": "python",
   "pygments_lexer": "ipython3",
   "version": "3.6.13"
  }
 },
 "nbformat": 4,
 "nbformat_minor": 5
}
